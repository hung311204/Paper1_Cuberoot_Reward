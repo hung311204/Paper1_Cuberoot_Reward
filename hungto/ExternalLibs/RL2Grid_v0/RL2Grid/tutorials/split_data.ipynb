{
 "cells": [
  {
   "cell_type": "code",
   "execution_count": null,
   "id": "c6ab3959",
   "metadata": {},
   "outputs": [],
   "source": []
  },
  {
   "cell_type": "code",
   "execution_count": null,
   "id": "eb3c68b3",
   "metadata": {},
   "outputs": [],
   "source": [
    "\n",
    "\n",
    "### DON\"T RUN THIS TWICE\n",
    "\n",
    "import grid2op\n",
    "env_name = \"l2rpn_case14_sandbox\"  # or any other...\n",
    "env = grid2op.make(env_name)\n",
    "\n",
    "\n",
    "nm_env_train, nm_env_val, nm_env_test = env.train_val_split_random(\n",
    "    pct_val=2., pct_test=2., add_for_val=\"val\", \n",
    "    add_for_test=\"test\"\n",
    ")\n",
    "\n",
    "# and now you can use the training set only to train your agent:\n",
    "print(f'The name of the training environment is \"{nm_env_train}\"')\n",
    "print(f'The name of the validation environment is \"{nm_env_val}\"')\n",
    "print(f'The name of the test environment is \"{nm_env_test}\"')\n",
    "\n"
   ]
  }
 ],
 "metadata": {
  "kernelspec": {
   "display_name": "rl2grid-310",
   "language": "python",
   "name": "python3"
  },
  "language_info": {
   "name": "python",
   "version": "3.9.23"
  }
 },
 "nbformat": 4,
 "nbformat_minor": 5
}
